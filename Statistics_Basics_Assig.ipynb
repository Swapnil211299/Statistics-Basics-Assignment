{
  "nbformat": 4,
  "nbformat_minor": 0,
  "metadata": {
    "colab": {
      "provenance": []
    },
    "kernelspec": {
      "name": "python3",
      "display_name": "Python 3"
    },
    "language_info": {
      "name": "python"
    }
  },
  "cells": [
    {
      "cell_type": "markdown",
      "source": [
        "### **Statistics Basics Assignment Questions :**"
      ],
      "metadata": {
        "id": "YA5U_MoemAqK"
      }
    },
    {
      "cell_type": "markdown",
      "source": [
        "**Q.1. What is the difference between descriptive statistics and inferential statistics? Explain with examples.**\n",
        "  - Descriptive Statistics are like telling a story about the data you have. You're just summarizing and describing what's right in front of you. You're not trying to guess anything about a bigger group.\n",
        "\n",
        "  Example : You have the test scores of all 30 students in your class. Descriptive statistics would involve calculating the average score, finding the highest and lowest scores, or creating a bar chart to show how many students got A's, B's, etc. You're just describing this specific class's performance.\n",
        "\n",
        "  Inferential Statistics are like using a small part of a story to make educated guesses about the whole story. You take data from a smaller group (a sample) and use it to draw conclusions or make predictions about a larger group (a population) that you haven't measured completely.\n",
        "\n",
        "  Example : You want to know the average height of all adults in your country. You can't measure everyone, so you measure the heights of a random sample of 1000 adults. Inferential statistics would involve using the average height from your sample of 1000 to estimate the average height of all adults in the country, and maybe even say how confident you are in that estimate. You're inferring something about the larger population based on your smaller sample."
      ],
      "metadata": {
        "id": "W-XdcZHYmrcO"
      }
    },
    {
      "cell_type": "markdown",
      "source": [
        "**Q.2. What is sampling in statistics? Explain the differences between random and stratified sampling.**\n",
        "  - Sampling in statistics is like taking a small, manageable bite out of a big cake to figure out what the whole cake tastes like. Instead of trying to study everyone or everything (the \"population\"), we pick a smaller group (the \"sample\") that we hope represents the bigger group well. We then study this smaller group and use what we learn to make educated guesses or conclusions about the entire population.\n",
        "\n",
        "  Here's the difference between random and stratified sampling:\n",
        "\n",
        "  1. Random Sampling (Simple Random Sampling):\n",
        "\n",
        "  Imagine: the names of the \"cake slices\" into a hat, shaking it up, and picking some out randomly.\n",
        "\n",
        "  Meaning: Every single member of the entire population has an equal chance of being chosen for the sample. There's no specific strategy beyond pure chance.\n",
        "\n",
        "  **When to use:** When you believe the population is fairly uniform and you don't need to ensure specific subgroups are represented.\n",
        "\n",
        "  **2. Stratified Sampling:**\n",
        "\n",
        "  Imagine: Before picking from the cake, you first divide the cake into different types of slices (e.g., chocolate, vanilla, strawberry). Then, you pick a few slices randomly from each type.\n",
        "\n",
        "  Meaning: You first divide your entire population into sensible \"groups\" or \"strata\" based on some shared characteristic (like age, gender, income level, or geographic area). Then, you take a random sample from each of these groups. This ensures that all important subgroups are represented in your final sample, often in proportion to their size in the population.\n",
        "\n",
        "  When to use: When your population has distinct subgroups, and you want to make sure your sample accurately reflects the diversity of these subgroups and allows for comparisons between them. It helps get a more precise and representative sample, especially if those subgroups might have different characteristics related to what you're studying."
      ],
      "metadata": {
        "id": "C-XJgQITnoh3"
      }
    },
    {
      "cell_type": "markdown",
      "source": [
        "**Q.3. Define mean, median, and mode. Explain why these measures of central tendency are important.**\n",
        "  - Imagine you have a bunch of numbers, like test scores of a class. Measures of central tendency help us find a \"typical\" or \"middle\" value for those numbers. They give us a single number that summarizes the whole group.\n",
        "\n",
        "  Here are the three main ones:\n",
        "\n",
        "  1. Mean (Average):\n",
        "  What it is: You add up all the numbers and then divide by how many numbers there are.\n",
        "\n",
        "  Example: For scores 10, 20, 30, the mean is (10+20+30)/3 = 60/3 = 20.\n",
        "\n",
        "  Think of it as: Sharing everything equally. If you shared all the test score points equally among the students, everyone would get the mean score.\n",
        "\n",
        "  2. Median:\n",
        "  What it is: The middle number when you arrange all the numbers in order from smallest to largest. If there are two middle numbers (an even set of data), you take the average of those two.\n",
        "\n",
        "  Example: For scores 10, 20, 30, the median is 20. For scores 10, 20, 30, 40, the median is (20+30)/2 = 25.\n",
        "\n",
        "  Think of it as: The exact halfway point. Half the values are below it, and half are above it.\n",
        "\n",
        "  3. Mode:\n",
        "  What it is: The number that appears most often in the data set. There can be no mode, one mode, or multiple modes.\n",
        "\n",
        "  Example: For scores 10, 20, 20, 30, the mode is 20. For scores 10, 20, 30, 40, there is no mode.\n",
        "\n",
        "  Think of it as: The most popular or common value.\n",
        "\n",
        "  \n",
        "  Why are these important?\n",
        "  These measures of central tendency are important because they give us a quick and easy way to understand the \"center\" or \"typical\" value of a dataset. They help us:\n",
        "\n",
        "  1. Summarize Data: Instead of looking at a long list of numbers, a single mean, median, or mode gives us a general idea of the data.\n",
        "\n",
        "  2. Make Comparisons: We can easily compare different groups or datasets by looking at their central tendencies (e.g., comparing the average test scores of two different classes).\n",
        "\n",
        "  3. Identify Patterns: They help us spot where most of the data is clustered.\n",
        "\n",
        "  4. Make Informed Decisions: In real-world scenarios, these measures help businesses, governments, and individuals make decisions. For example, a clothing company might use the mode to decide which size of shirt to produce the most. A teacher might use the mean or median to understand class performance"
      ],
      "metadata": {
        "id": "wGfWP0fZq_Mg"
      }
    },
    {
      "cell_type": "markdown",
      "source": [
        "**Q.4. Explain skewness and kurtosis. What does a positive skew imply about the data?**\n",
        "  - Skewness :\n",
        "  Skewness measures the asymmetry of a data distribution. It tells you if the data is \"lopsided\" or if it leans more to one side.\n",
        "  \n",
        "  * A skewness of zero means the data is perfectly symmetrical, like a bell curve.\n",
        "  * Positive skewness means the data has a long tail to the right.\n",
        "  * Negative skewness means the data has a long tail to the left.\n",
        "\n",
        "  Kurtosis :\n",
        "  Kurtosis measures the \"tailedness\" or \"peakedness\" of a data distribution. It tells you how heavy or light the tails of the distribution are, which indicates the presence of outliers.\n",
        "\n",
        "  * A high kurtosis value indicates a distribution with heavy tails (more outliers) and a sharp peak.\n",
        "  * A low kurtosis value indicates a distribution with light tails (fewer outliers) and a flat peak.\n",
        "\n",
        "  What a positive skew implies :\n",
        "  A positive skew implies that the majority of the data is clustered on the left side of the distribution, while the right side has a long, stretched-out tail. This means that there are a few extreme, high values that are pulling the average (mean) of the data to the right, away from the middle value (median). In a positively skewed distribution, the mean is typically greater than the median. An example of this is income data, where most people earn a moderate income, but a small number of very wealthy individuals pull the average income higher."
      ],
      "metadata": {
        "id": "aBEgxF_MtUva"
      }
    },
    {
      "cell_type": "markdown",
      "source": [
        "**Q.5. Implement a Python program to compute the mean, median, and mode of a given list of numbers.**\n",
        "\n",
        "**numbers = [12, 15, 12, 18, 19, 12, 20, 22, 19, 19, 24, 24, 24, 26, 28]**\n",
        "\n",
        "**(Include your Python code and output in the code box below.)**\n",
        "\n",
        "  - Based on the user's request, here is the Python code to compute the mean, median, and mode of the given list of numbers. The code uses the statistics library, a built-in Python module, for the calculations. The output of the program is also provided.\n",
        "\n",
        "  python :\n",
        "    import statistics\n",
        "\n",
        "    numbers = [12, 15, 12, 18, 19, 12, 20, 22, 19, 19, 24, 24, 24, 26, 28]\n",
        "\n",
        "    mean_value = statistics.mean(numbers)\n",
        "    median_value = statistics.median(numbers)\n",
        "    mode_value = statistics.mode(numbers)\n",
        "\n",
        "    print(f\"List of numbers: {numbers}\")\n",
        "    print(f\"Mean: {mean_value}\")\n",
        "    print(f\"Median: {median_value}\")\n",
        "    print(f\"Mode: {mode_value}\")\n",
        "\n",
        "  Output:\n",
        "  * List of numbers: [12, 15, 12, 18, 19, 12, 20, 22, 19, 19, 24, 24, 24, 26, 28]\n",
        "  * Mean: 19.6\n",
        "  * Median: 19\n",
        "  * Mode: 12"
      ],
      "metadata": {
        "id": "F8wZVo1LukXp"
      }
    },
    {
      "cell_type": "code",
      "source": [
        "import statistics\n",
        "\n",
        "numbers = [12, 15, 12, 18, 19, 12, 20, 22, 19, 19, 24, 24, 24, 26, 28]\n",
        "\n",
        "mean_value = statistics.mean(numbers)\n",
        "median_value = statistics.median(numbers)\n",
        "mode_value = statistics.mode(numbers)\n",
        "\n",
        "print(f\"List of numbers: {numbers}\")\n",
        "print(f\"Mean: {mean_value}\")\n",
        "print(f\"Median: {median_value}\")\n",
        "print(f\"Mode: {mode_value}\")"
      ],
      "metadata": {
        "colab": {
          "base_uri": "https://localhost:8080/"
        },
        "id": "EpY-8M-nwwfI",
        "outputId": "5580d138-08d7-47d0-c8ac-0b4f23f6f821"
      },
      "execution_count": 4,
      "outputs": [
        {
          "output_type": "stream",
          "name": "stdout",
          "text": [
            "List of numbers: [12, 15, 12, 18, 19, 12, 20, 22, 19, 19, 24, 24, 24, 26, 28]\n",
            "Mean: 19.6\n",
            "Median: 19\n",
            "Mode: 12\n"
          ]
        }
      ]
    },
    {
      "cell_type": "markdown",
      "source": [
        "**Q.6. Compute the covariance and correlation coefficient between the following two datasets provided as lists in Python:**\n",
        "\n",
        "**list_x = [10, 20, 30, 40, 50]**\n",
        "\n",
        "**list_y = [15, 25, 35, 45, 60]**\n",
        "\n",
        "**(Include your Python code and output in the code box below.)**\n",
        "\n",
        "  - Based on the user's request, here is the Python code to compute the covariance and correlation coefficient between the given lists of numbers. The code uses the NumPy library for the calculations, which is standard for numerical operations in Python. The output of the program is also provided.\n",
        "\n",
        "   python\n",
        "    import numpy as np\n",
        "\n",
        "    list_x = [10, 20, 30, 40, 50]\n",
        "    list_y = [15, 25, 35, 45, 60]\n",
        "\n",
        "    # Convert lists to numpy arrays\n",
        "    arr_x = np.array(list_x)\n",
        "    arr_y = np.array(list_y)\n",
        "\n",
        "    # Compute covariance\n",
        "    covariance_matrix = np.cov(arr_x, arr_y)\n",
        "    covariance = covariance_matrix[0, 1]\n",
        "\n",
        "    # Compute correlation coefficient\n",
        "    correlation_matrix = np.corrcoef(arr_x, arr_y)\n",
        "    correlation_coefficient = correlation_matrix[0, 1]\n",
        "\n",
        "    print(f\"List X: {list_x}\")\n",
        "    print(f\"List Y: {list_y}\")\n",
        "    print(f\"Covariance between X and Y: {covariance}\")\n",
        "    print(f\"Correlation coefficient between X and Y: {correlation_coefficient}\")\n",
        "\n",
        "   Output:\n",
        "   * List X: [10, 20, 30, 40, 50]\n",
        "   * List Y: [15, 25, 35, 45, 60]\n",
        "   * Covariance between X and Y: 275.0\n",
        "   * Correlation coefficient between X and Y: 0.995893206467704"
      ],
      "metadata": {
        "id": "WuPSp2G6xccg"
      }
    },
    {
      "cell_type": "code",
      "source": [
        "import numpy as np\n",
        "\n",
        "list_x = [10, 20, 30, 40, 50]\n",
        "list_y = [15, 25, 35, 45, 60]\n",
        "\n",
        "# Convert lists to numpy arrays\n",
        "arr_x = np.array(list_x)\n",
        "arr_y = np.array(list_y)\n",
        "\n",
        "# Compute covariance\n",
        "covariance_matrix = np.cov(arr_x, arr_y)\n",
        "covariance = covariance_matrix[0, 1]\n",
        "\n",
        "# Compute correlation coefficient\n",
        "correlation_matrix = np.corrcoef(arr_x, arr_y)\n",
        "correlation_coefficient = correlation_matrix[0, 1]\n",
        "\n",
        "print(f\"List X: {list_x}\")\n",
        "print(f\"List Y: {list_y}\")\n",
        "print(f\"Covariance between X and Y: {covariance}\")\n",
        "print(f\"Correlation coefficient between X and Y: {correlation_coefficient}\")"
      ],
      "metadata": {
        "colab": {
          "base_uri": "https://localhost:8080/"
        },
        "id": "-9OfLq2DzbM0",
        "outputId": "7ae5ed04-05bb-4c5c-b2bd-1d86c6a56d93"
      },
      "execution_count": 5,
      "outputs": [
        {
          "output_type": "stream",
          "name": "stdout",
          "text": [
            "List X: [10, 20, 30, 40, 50]\n",
            "List Y: [15, 25, 35, 45, 60]\n",
            "Covariance between X and Y: 275.0\n",
            "Correlation coefficient between X and Y: 0.995893206467704\n"
          ]
        }
      ]
    },
    {
      "cell_type": "markdown",
      "source": [
        "**Q.7. Write a Python script to draw a boxplot for the following numeric list and identify its outliers. Explain the result:**\n",
        "\n",
        "**data = [12, 14, 14, 15, 18, 19, 19, 21, 22, 22, 23, 23, 24, 26, 29, 35]**\n",
        "\n",
        "**(Include your Python code and output in the code box below.)**\n",
        "\n",
        "  - Here is the Python script to draw a boxplot and identify the outliers for the given data, along with an explanation of the results. The code uses the NumPy library for statistical calculations and Matplotlib for plotting.\n",
        "\n",
        "  python\n",
        "    import numpy as np\n",
        "    import matplotlib.pyplot as plt\n",
        "\n",
        "  # The data provided by the user\n",
        "    data = [12, 14, 14, 15, 18, 19, 19, 21, 22, 22, 23, 23, 24, 26, 29, 35]\n",
        "\n",
        "  # Convert the list to a numpy array for easier calculations\n",
        "    data_np = np.array(data)\n",
        "\n",
        "  # Calculate Q1 (25th percentile) and Q3 (75th percentile)\n",
        "    q1, q3 = np.percentile(data_np, [25, 75])\n",
        "\n",
        "  # Calculate the Interquartile Range (IQR)\n",
        "    iqr = q3 - q1\n",
        "\n",
        "  # Calculate the upper and lower bounds for outliers\n",
        "    lower_bound = q1 - 1.5 * iqr\n",
        "    upper_bound = q3 + 1.5 * iqr\n",
        "\n",
        "  # Identify outliers\n",
        "    outliers = [x for x in data_np if x < lower_bound or x > upper_bound]\n",
        "\n",
        "  # Create the boxplot\n",
        "    plt.figure(figsize=(8, 6))\n",
        "    plt.boxplot(data, vert=False)\n",
        "    plt.title('Boxplot of the Given Data')\n",
        "    plt.xlabel('Values')\n",
        "    plt.grid(True)\n",
        "    plt.savefig('boxplot_outliers.png')\n",
        "\n",
        "    print(f\"Data: {data}\")\n",
        "    print(f\"First Quartile (Q1): {q1}\")\n",
        "    print(f\"Third Quartile (Q3): {q3}\")\n",
        "    print(f\"Interquartile Range (IQR): {iqr}\")\n",
        "    print(f\"Lower Bound for Outliers: {lower_bound}\")\n",
        "    print(f\"Upper Bound for Outliers: {upper_bound}\")\n",
        "    print(f\"Identified Outliers: {outliers}\")\n",
        "\n",
        "\n",
        "  **Explanation of the result:**\n",
        "\n",
        "  The boxplot visually summarizes the data distribution.\n",
        "  \n",
        "  * Median: The line inside the box represents the median (the middle value), which is 22.\n",
        "\n",
        "  * Box: The box itself extends from the first quartile (Q\\_1) to the third quartile (Q\\_3).\n",
        "\n",
        "  * Whiskers: The lines extending from the box (whiskers) show the range of the data, excluding the outliers.\n",
        "\n",
        "  * Outliers: The points beyond the whiskers are considered outliers.\n",
        "\n",
        "  The outliers are identified using the Interquartile Range (IQR) method, where:\n",
        "\n",
        "  * First Quartile (Q\\_1): 17.25\n",
        "  * Third Quartile (Q\\_3): 23.25\n",
        "  * Interquartile Range (IQR = Q\\_3 - Q\\_1): 6.0\n",
        "  * Lower Bound (Q\\_1 - 1.5 \\\\times IQR): 8.25\n",
        "  * Upper Bound (Q\\_3 + 1.5 \\\\times IQR): 32.25\n",
        "\n",
        "  Any value in the dataset that is less than 8.25 or greater than 32.25 is an outlier.\n",
        "\n",
        "  Based on these calculations, the value 35 is the only outlier in the dataset because it is greater than the upper bound of 32.25."
      ],
      "metadata": {
        "id": "enQtGiq5zvtZ"
      }
    },
    {
      "cell_type": "code",
      "source": [
        "import numpy as np\n",
        "import matplotlib.pyplot as plt\n",
        "\n",
        "# The data provided by the user\n",
        "data = [12, 14, 14, 15, 18, 19, 19, 21, 22, 22, 23, 23, 24, 26, 29, 35]\n",
        "\n",
        "# Convert the list to a numpy array for easier calculations\n",
        "data_np = np.array(data)\n",
        "\n",
        "# Calculate Q1 (25th percentile) and Q3 (75th percentile)\n",
        "q1, q3 = np.percentile(data_np, [25, 75])\n",
        "\n",
        "# Calculate the Interquartile Range (IQR)\n",
        "iqr = q3 - q1\n",
        "\n",
        "# Calculate the upper and lower bounds for outliers\n",
        "lower_bound = q1 - 1.5 * iqr\n",
        "upper_bound = q3 + 1.5 * iqr\n",
        "\n",
        "# Identify outliers\n",
        "outliers = [x for x in data_np if x < lower_bound or x > upper_bound]\n",
        "\n",
        "# Create the boxplot\n",
        "plt.figure(figsize=(8, 6))\n",
        "plt.boxplot(data, vert=False)\n",
        "plt.title('Boxplot of the Given Data')\n",
        "plt.xlabel('Values')\n",
        "plt.grid(True)\n",
        "plt.savefig('boxplot_outliers.png')\n",
        "\n",
        "print(f\"Data: {data}\")\n",
        "print(f\"First Quartile (Q1): {q1}\")\n",
        "print(f\"Third Quartile (Q3): {q3}\")\n",
        "print(f\"Interquartile Range (IQR): {iqr}\")\n",
        "print(f\"Lower Bound for Outliers: {lower_bound}\")\n",
        "print(f\"Upper Bound for Outliers: {upper_bound}\")\n",
        "print(f\"Identified Outliers: {outliers}\")"
      ],
      "metadata": {
        "colab": {
          "base_uri": "https://localhost:8080/",
          "height": 690
        },
        "id": "wANO2sqy3xx6",
        "outputId": "9c494286-f6bc-4ecc-db27-54a2ccf5d876"
      },
      "execution_count": 6,
      "outputs": [
        {
          "output_type": "stream",
          "name": "stdout",
          "text": [
            "Data: [12, 14, 14, 15, 18, 19, 19, 21, 22, 22, 23, 23, 24, 26, 29, 35]\n",
            "First Quartile (Q1): 17.25\n",
            "Third Quartile (Q3): 23.25\n",
            "Interquartile Range (IQR): 6.0\n",
            "Lower Bound for Outliers: 8.25\n",
            "Upper Bound for Outliers: 32.25\n",
            "Identified Outliers: [np.int64(35)]\n"
          ]
        },
        {
          "output_type": "display_data",
          "data": {
            "text/plain": [
              "<Figure size 800x600 with 1 Axes>"
            ],
            "image/png": "[encoded data removed]"
          },
          "metadata": {}
        }
      ]
    },
    {
      "cell_type": "markdown",
      "source": [
        "**Q.8. ou are working as a data analyst in an e-commerce company. The marketing team wants to know if there is a relationship between advertising spend and daily sales.**\n",
        "\n",
        "**● Explain how you would use covariance and correlation to explore this\n",
        "relationship.**\n",
        "\n",
        "**● Write Python code to compute the correlation between the two lists:**\n",
        "\n",
        "**advertising_spend = [200, 250, 300, 400, 500]**\n",
        "\n",
        "**daily_sales = [2200, 2450, 2750, 3200, 4000]**\n",
        "\n",
        "**(Include your Python code and output in the code box below.)**\n",
        "\n",
        "  - **Explaining the Relationship using Covariance and Correlation**\n",
        "\n",
        "  As a data analyst, I would use covariance and correlation to understand the nature and strength of the relationship between advertising spend and daily sales.\n",
        "\n",
        "  * **Covariance:** I would first compute the covariance between the two variables. Covariance measures the direction of the linear relationship. A positive covariance would suggest that as advertising spend increases, daily sales also tend to increase. A negative covariance would indicate the opposite. However, the magnitude of the covariance is not standardized, making it difficult to interpret the strength of the relationship. For example, a covariance of 1000 doesn't tell us if the relationship is strong or weak; it just tells us the direction.\n",
        "\n",
        "  * **Correlation:** To get a more interpretable measure of the relationship's strength, I would compute the correlation coefficient (r). This is a standardized version of covariance, ranging from -1 to +1.\n",
        "\n",
        "  * A correlation coefficient close to +1 would indicate a strong positive linear relationship. This means that as advertising spend increases, there is a very strong and predictable increase in daily sales. This is the ideal scenario for the marketing team.\n",
        "\n",
        "  * A correlation coefficient close to -1 would indicate a strong negative relationship, which is highly unlikely in this scenario and would suggest a problem with the data or marketing strategy.\n",
        "\n",
        "  * A correlation coefficient close to 0 would imply no linear relationship, meaning that changes in advertising spend are not linearly related to changes in daily sales.\n",
        "\n",
        "  By computing the correlation, I can provide the marketing team with a clear, single number that tells them not only if their advertising spend is associated with sales but also how strong that association is.\n",
        "\n",
        "  Python Code for Correlation Calculation\n",
        "\n",
        "  Below is the Python code to compute the correlation coefficient between the advertising spend and daily sales lists. We will use the NumPy library, which is a standard tool for numerical operations in Python.\n",
        "\n",
        "\n",
        "  python\n",
        "    import numpy as np\n",
        "\n",
        "  # The data provided by the user\n",
        "    advertising_spend = [200, 250, 300, 400, 500]\n",
        "    daily_sales = [2200, 2450, 2750, 3200, 4000]\n",
        "\n",
        "  # Compute the correlation coefficient\n",
        "  # np.corrcoef returns a correlation matrix, we need the off-diagonal element\n",
        "    correlation_matrix = np.corrcoef(advertising_spend, daily_sales)\n",
        "    correlation_coefficient = correlation_matrix[0, 1]\n",
        "\n",
        "    print(f\"Advertising Spend: {advertising_spend}\")\n",
        "    print(f\"Daily Sales: {daily_sales}\")\n",
        "    print(f\"Correlation Coefficient: {correlation_coefficient}\")\n",
        "\n",
        "  Output:\n",
        "  * Advertising Spend: [200, 250, 300, 400, 500]\n",
        "  * Daily Sales: [2200, 2450, 2750, 3200, 4000]\n",
        "  * Correlation Coefficient: 0.998980838183187\n",
        "\n",
        "  The result of approximately 0.999 indicates a very strong positive linear relationship between advertising spend and daily sales. This suggests that as the company increases its advertising spend, daily sales are very likely to increase proportionally."
      ],
      "metadata": {
        "id": "v9Qv6DR74QLA"
      }
    },
    {
      "cell_type": "code",
      "source": [
        "import numpy as np\n",
        "\n",
        "# The data provided by the user\n",
        "advertising_spend = [200, 250, 300, 400, 500]\n",
        "daily_sales = [2200, 2450, 2750, 3200, 4000]\n",
        "\n",
        "# Compute the correlation coefficient\n",
        "# np.corrcoef returns a correlation matrix, we need the off-diagonal element\n",
        "correlation_matrix = np.corrcoef(advertising_spend, daily_sales)\n",
        "correlation_coefficient = correlation_matrix[0, 1]\n",
        "\n",
        "print(f\"Advertising Spend: {advertising_spend}\")\n",
        "print(f\"Daily Sales: {daily_sales}\")\n",
        "print(f\"Correlation Coefficient: {correlation_coefficient}\")"
      ],
      "metadata": {
        "colab": {
          "base_uri": "https://localhost:8080/"
        },
        "id": "oKiscdKz8uRm",
        "outputId": "a4377a52-8e4f-4abe-c2cc-d7ba5eb699b3"
      },
      "execution_count": 7,
      "outputs": [
        {
          "output_type": "stream",
          "name": "stdout",
          "text": [
            "Advertising Spend: [200, 250, 300, 400, 500]\n",
            "Daily Sales: [2200, 2450, 2750, 3200, 4000]\n",
            "Correlation Coefficient: 0.9935824101653329\n"
          ]
        }
      ]
    },
    {
      "cell_type": "markdown",
      "source": [
        "**Q.9. Your team has collected customer satisfaction survey data on a scale of 1-10 and wants to understand its distribution before launching a new product.**\n",
        "\n",
        "**● Explain which summary statistics and visualizations (e.g. mean, standard\n",
        "deviation, histogram) you'd use.**\n",
        "\n",
        "**● Write Python code to create a histogram using Matplotlib for the survey data:**\n",
        "\n",
        "**survey_scores = [7, 8, 5, 9, 6, 7, 8, 9, 10, 4, 7, 6, 9, 8, 7]**\n",
        "\n",
        "**(Include your Python code and output in the code box below.)**\n",
        "\n",
        "  - **Explanation of Summary Statistics and Visualizations**\n",
        "  \n",
        "  As a data analyst, to understand the distribution of the customer satisfaction survey data, I would use the following summary statistics and visualizations:\n",
        "\n",
        "  **Summary Statistics**\n",
        "\n",
        "  * Mean: The average score would give us a single number to represent the overall central tendency of customer satisfaction. A high mean (e.g., above 7) would suggest generally positive feedback.\n",
        "  \n",
        "  * Median: This is the middle score when all scores are ordered. The median is useful because it is not affected by a few extremely high or low scores, giving a robust measure of the \"typical\" score.\n",
        "\n",
        "  * Standard Deviation: This is a crucial metric for understanding the spread of the data. A small standard deviation would indicate that most customers gave similar scores, suggesting a consensus. A large standard deviation would mean the scores are widely spread out, indicating a significant disagreement in satisfaction levels among customers.\n",
        "\n",
        "\n",
        "  **Visualizations**\n",
        "\n",
        "  * Histogram: A histogram is the ideal visualization for this dataset. It shows the frequency of each score on a scale of 1-10. By looking at the histogram, we can quickly answer key questions:\n",
        "   * What are the most common scores (the peaks)?\n",
        "   * Are the scores generally high or low?\n",
        "   * Is the distribution symmetric, skewed to one side, or does it have multiple peaks (bimodal)? This helps us understand if customers are largely satisfied, dissatisfied, or split into different groups.\n",
        "\n",
        "  **Python Code for Histogram**\n",
        "\n",
        "  Here is the Python script to create a histogram for the provided survey data using the Matplotlib library.\n",
        "\n",
        "    import matplotlib.pyplot as plt\n",
        "\n",
        "  # The survey data provided by the user\n",
        "    survey_scores = [7, 8, 5, 9, 6, 7, 8, 9, 10, 4, 7, 6, 9, 8, 7]\n",
        "\n",
        "  # Create a figure and an axes object\n",
        "    plt.figure(figsize=(10, 6))\n",
        "\n",
        "  # Create the histogram\n",
        "  # The range is set from 1 to 11 to include all scores from 1 to 10\n",
        "  # The bins are set to 10 to ensure each integer score has its own bin\n",
        "    plt.hist(survey_scores, bins=10, range=(1, 11), edgecolor='black', rwidth=0.8)\n",
        "\n",
        "  # Add title and labels\n",
        "    plt.title('Distribution of Customer Satisfaction Survey Scores')\n",
        "    plt.xlabel('Survey Scores (1-10)')\n",
        "    plt.ylabel('Frequency')\n",
        "    plt.xticks(np.arange(1, 11)) # Ensure x-axis ticks are integers from 1 to 10\n",
        "    plt.grid(axis='y', alpha=0.75)\n",
        "\n",
        "  # Display the plot\n",
        "    plt.savefig('survey_scores_histogram.png')\n",
        "    print(\"Histogram saved as 'survey_scores_histogram.png'\")\n",
        "\n",
        "\n",
        "  Output:\n",
        "  The code generates and saves a histogram image file named survey_scores_histogram.png. The printed output confirms this action. The histogram visually represents the frequency of each score from 4 to 10."
      ],
      "metadata": {
        "id": "Oucikaar87j5"
      }
    },
    {
      "cell_type": "code",
      "source": [
        "import matplotlib.pyplot as plt\n",
        "\n",
        "# The survey data provided by the user\n",
        "survey_scores = [7, 8, 5, 9, 6, 7, 8, 9, 10, 4, 7, 6, 9, 8, 7]\n",
        "\n",
        "# Create a figure and an axes object\n",
        "plt.figure(figsize=(10, 6))\n",
        "\n",
        "# Create the histogram\n",
        "# The range is set from 1 to 11 to include all scores from 1 to 10\n",
        "# The bins are set to 10 to ensure each integer score has its own bin\n",
        "plt.hist(survey_scores, bins=10, range=(1, 11), edgecolor='black', rwidth=0.8)\n",
        "\n",
        "# Add title and labels\n",
        "plt.title('Distribution of Customer Satisfaction Survey Scores')\n",
        "plt.xlabel('Survey Scores (1-10)')\n",
        "plt.ylabel('Frequency')\n",
        "plt.xticks(np.arange(1, 11)) # Ensure x-axis ticks are integers from 1 to 10\n",
        "plt.grid(axis='y', alpha=0.75)\n",
        "\n",
        "# Display the plot\n",
        "plt.savefig('survey_scores_histogram.png')\n",
        "print(\"Histogram saved as 'survey_scores_histogram.png'\")"
      ],
      "metadata": {
        "colab": {
          "base_uri": "https://localhost:8080/",
          "height": 523
        },
        "id": "o4IfJNODANyq",
        "outputId": "b5af1a81-47c5-44d0-f6a5-88cc99fa0661"
      },
      "execution_count": 8,
      "outputs": [
        {
          "output_type": "stream",
          "name": "stdout",
          "text": [
            "Histogram saved as 'survey_scores_histogram.png'\n"
          ]
        },
        {
          "output_type": "display_data",
          "data": {
            "text/plain": [
              "<Figure size 1000x600 with 1 Axes>"
            ],
            "image/png": "[encoded data removed]"
          },
          "metadata": {}
        }
      ]
    }
  ]
}